{
 "cells": [
  {
   "cell_type": "markdown",
   "metadata": {},
   "source": [
    "Machine learning is mostly math on large datasets: vectors, matrices, tensors.\n",
    "Python’s built-in lists are too slow and memory-heavy for that.\n",
    "NumPy = Numerical Python → optimized for fast math operations on arrays, like linear algebra."
   ]
  },
  {
   "cell_type": "code",
   "execution_count": 5,
   "metadata": {},
   "outputs": [
    {
     "name": "stdout",
     "output_type": "stream",
     "text": [
      "[1 2 3 4 5]\n",
      "(5,)\n"
     ]
    }
   ],
   "source": [
    "import numpy as np\n",
    "\n",
    "##create array using numpy\n",
    "##create 1D array\n",
    "\n",
    "arr1=np.array([1,2,3,4,5])\n",
    "print(arr1)\n",
    "print(arr1.shape)"
   ]
  },
  {
   "cell_type": "code",
   "execution_count": 6,
   "metadata": {},
   "outputs": [
    {
     "data": {
      "text/plain": [
       "array([[1, 2, 3, 4, 5]])"
      ]
     },
     "execution_count": 6,
     "metadata": {},
     "output_type": "execute_result"
    }
   ],
   "source": [
    "##reshaping the array into 2D array\n",
    "arr2=np.array([1,2,3,4,5])\n",
    "arr2.reshape(1,5)"
   ]
  },
  {
   "cell_type": "code",
   "execution_count": 11,
   "metadata": {},
   "outputs": [
    {
     "name": "stdout",
     "output_type": "stream",
     "text": [
      "[[1 2 3 4 5]\n",
      " [6 7 8 9 1]]\n",
      "(2, 5)\n"
     ]
    }
   ],
   "source": [
    "arr2=np.array([[1,2,3,4,5],[6,7,8,9,1]])\n",
    "print(arr2)\n",
    "print(arr2.shape)"
   ]
  },
  {
   "cell_type": "code",
   "execution_count": 45,
   "metadata": {},
   "outputs": [
    {
     "name": "stdout",
     "output_type": "stream",
     "text": [
      "[[ 1  2  3  4  5]\n",
      " [ 6  7  8  9 10]\n",
      " [11 12 13 14 15]\n",
      " [16 17 18 19 20]]\n",
      "\n",
      "[[ 7  8]\n",
      " [12 13]]\n"
     ]
    }
   ],
   "source": [
    "##SLICING\n",
    "## [row:col,row:col]\n",
    "##  include:not included\n",
    "\n",
    "arr1 = np.array([[1,2,3,4,5],[6,7,8,9,10],[11,12,13,14,15],[16,17,18,19,20]])\n",
    "print(arr1)\n",
    "print()\n",
    "print(arr1[1:3,1:3])"
   ]
  },
  {
   "cell_type": "code",
   "execution_count": 44,
   "metadata": {},
   "outputs": [
    {
     "name": "stdout",
     "output_type": "stream",
     "text": [
      "[[100   0   0   0   0]\n",
      " [  6   7   8   9  10]\n",
      " [ 11  12  13  14  15]\n",
      " [ 16  17  18  19  20]]\n"
     ]
    }
   ],
   "source": [
    "##modify element\n",
    "arr1[0,0]=100\n",
    "print(arr1)"
   ]
  },
  {
   "cell_type": "code",
   "execution_count": 55,
   "metadata": {},
   "outputs": [
    {
     "name": "stdout",
     "output_type": "stream",
     "text": [
      "[[1 0 0 0 0]\n",
      " [0 0 0 0 0]\n",
      " [0 0 0 0 0]\n",
      " [0 0 0 0 0]]\n"
     ]
    }
   ],
   "source": [
    "arr1 = np.array([[1,2,3,4,5],[6,7,8,9,10],[11,12,13,14,15],[16,17,18,19,20]])\n",
    "\n",
    "arr1[0:,1:]=0\n",
    "arr1[1:,0]=0\n",
    "print(arr1)"
   ]
  },
  {
   "cell_type": "code",
   "execution_count": 56,
   "metadata": {},
   "outputs": [
    {
     "name": "stdout",
     "output_type": "stream",
     "text": [
      "Normalised data:  [-1.46385011 -0.87831007 -0.29277002  0.29277002  0.87831007  1.46385011]\n"
     ]
    }
   ],
   "source": [
    "##statistical concept- normalisation\n",
    "##to have a mean and standard deviation of 1\n",
    "data = np.array([1,2,3,4,5,6])\n",
    "\n",
    "##calculate the mean and sd\n",
    "mean = np.mean(data)\n",
    "std_dev = np.std(data)\n",
    "\n",
    "##normalise the data\n",
    "normalised_data = (data-mean)/std_dev\n",
    "print(\"Normalised data: \", normalised_data)"
   ]
  },
  {
   "cell_type": "code",
   "execution_count": 61,
   "metadata": {},
   "outputs": [
    {
     "data": {
      "text/plain": [
       "array([2345,  211])"
      ]
     },
     "execution_count": 61,
     "metadata": {},
     "output_type": "execute_result"
    }
   ],
   "source": [
    "##logical opn\n",
    "data = np.array([10,2345,211,4,5,6])\n",
    "data[data<200]\n",
    "\n",
    "data[(data>=100) & (data<25000)]"
   ]
  },
  {
   "cell_type": "code",
   "execution_count": null,
   "metadata": {},
   "outputs": [],
   "source": []
  }
 ],
 "metadata": {
  "kernelspec": {
   "display_name": "venv",
   "language": "python",
   "name": "python3"
  },
  "language_info": {
   "codemirror_mode": {
    "name": "ipython",
    "version": 3
   },
   "file_extension": ".py",
   "mimetype": "text/x-python",
   "name": "python",
   "nbconvert_exporter": "python",
   "pygments_lexer": "ipython3",
   "version": "3.11.13"
  }
 },
 "nbformat": 4,
 "nbformat_minor": 2
}
