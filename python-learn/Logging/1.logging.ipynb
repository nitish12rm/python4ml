{
 "cells": [
  {
   "cell_type": "markdown",
   "id": "d1dc4fd5",
   "metadata": {},
   "source": [
    "Python Logging\n",
    "-   Logging is a crucial aspect of any application providing a way to track events, erros and operational information.\n",
    "-   Python built in logging module offers a flexible frameworks for emitting log messages from python programs"
   ]
  },
  {
   "cell_type": "code",
   "execution_count": null,
   "id": "c4e1a5ce",
   "metadata": {},
   "outputs": [
    {
     "name": "stderr",
     "output_type": "stream",
     "text": [
      "DEBUG:root:This is debug message\n",
      "INFO:root:This is a info message\n",
      "ERROR:root:This is a error message\n",
      "WARNING:root:This is a warning message\n",
      "CRITICAL:root:This is a critical message\n"
     ]
    }
   ],
   "source": [
    "import logging\n",
    "\n",
    "#Confifgure the basic logging settings\n",
    "logging.basicConfig(level=logging.DEBUG)\n",
    "\n",
    "#Log messages with different severity levels\n",
    "logging.debug(\"This is debug message\")\n",
    "logging.info(\"This is a info message\")\n",
    "logging.error(\"This is a error message\")\n",
    "logging.warning(\"This is a warning message\")\n",
    "logging.critical(\"This is a critical message\")"
   ]
  },
  {
   "cell_type": "code",
   "execution_count": 5,
   "id": "a97b47eb",
   "metadata": {},
   "outputs": [],
   "source": [
    "## Configuring loggging\n",
    "logging.basicConfig(\n",
    "    filename='app.log',\n",
    "    level=logging.DEBUG,\n",
    "    format=\"%(asctime)s - %(name)s - %(levelname)s - %(message)s\",\n",
    "    datefmt=\"%Y-%m-%d %H:%M:%S\",\n",
    "    force=True   # <- resets existing handlers\n",
    ")\n",
    "\n",
    "logging.debug(\"This is debug message\")\n",
    "logging.info(\"This is an info message\")\n",
    "logging.error(\"This is an error message\")\n",
    "logging.warning(\"This is a warning message\")\n",
    "logging.critical(\"This is a critical message\")\n"
   ]
  },
  {
   "cell_type": "code",
   "execution_count": null,
   "id": "538e926d",
   "metadata": {},
   "outputs": [
    {
     "name": "stderr",
     "output_type": "stream",
     "text": [
      "DEBUG:root:This is debug message\n",
      "INFO:root:This is a info message\n",
      "ERROR:root:This is a error message\n",
      "WARNING:root:This is a warning message\n",
      "CRITICAL:root:This is a critical message\n"
     ]
    }
   ],
   "source": []
  },
  {
   "cell_type": "markdown",
   "id": "3c72e853",
   "metadata": {},
   "source": []
  }
 ],
 "metadata": {
  "kernelspec": {
   "display_name": "Python 3",
   "language": "python",
   "name": "python3"
  },
  "language_info": {
   "codemirror_mode": {
    "name": "ipython",
    "version": 3
   },
   "file_extension": ".py",
   "mimetype": "text/x-python",
   "name": "python",
   "nbconvert_exporter": "python",
   "pygments_lexer": "ipython3",
   "version": "3.11.13"
  }
 },
 "nbformat": 4,
 "nbformat_minor": 5
}
