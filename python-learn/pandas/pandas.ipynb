{
 "cells": [
  {
   "cell_type": "markdown",
   "metadata": {},
   "source": [
    "Pandas\n",
    "\n",
    "its a python library used for working with data sets\n",
    "\n",
    "it has a function of analyzing, cleaning, exploring and manipulating data\n",
    "\n",
    "it enables us to analyse big data and make conclusions based ons statistical theories\n",
    "\n",
    "it can clean messy data sets and make them readable and relevant"
   ]
  },
  {
   "cell_type": "code",
   "execution_count": 2,
   "metadata": {},
   "outputs": [],
   "source": [
    "import pandas as pd"
   ]
  },
  {
   "cell_type": "code",
   "execution_count": 4,
   "metadata": {},
   "outputs": [
    {
     "name": "stdout",
     "output_type": "stream",
     "text": [
      "    cars  passings\n",
      "0    BMW         3\n",
      "1  VOLVO         7\n",
      "2   FORD         2\n"
     ]
    }
   ],
   "source": [
    "\n",
    "mydataset = {\n",
    "    'cars':[\"BMW\",\"VOLVO\",\"FORD\"],\n",
    "    'passings':[3,7,2]\n",
    "}\n",
    "\n",
    "myvar = pd.DataFrame(mydataset)\n",
    "\n",
    "print(myvar)\n"
   ]
  },
  {
   "cell_type": "markdown",
   "metadata": {},
   "source": [
    "Series\n",
    "\n",
    "its like column in a table\n",
    "1d array holding data of any type"
   ]
  },
  {
   "cell_type": "code",
   "execution_count": 8,
   "metadata": {},
   "outputs": [
    {
     "name": "stdout",
     "output_type": "stream",
     "text": [
      "0    1\n",
      "1    2\n",
      "2    3\n",
      "dtype: int64\n",
      "3\n"
     ]
    }
   ],
   "source": [
    "a =[1,2,3]\n",
    "series = pd.Series(a)\n",
    "print(series)\n",
    "print(series[2])"
   ]
  },
  {
   "cell_type": "markdown",
   "metadata": {},
   "source": [
    "Labels\n",
    "\n",
    "by default the labels are 0 till items\n",
    "\n",
    "but it can also be specified"
   ]
  },
  {
   "cell_type": "code",
   "execution_count": 12,
   "metadata": {},
   "outputs": [
    {
     "name": "stdout",
     "output_type": "stream",
     "text": [
      "x     1\n",
      "y    23\n",
      "z     4\n",
      "dtype: int64\n",
      "4\n"
     ]
    }
   ],
   "source": [
    "a = [1,23,4]\n",
    "\n",
    "srs_with_labels = pd.Series(a,index=[\"x\",\"y\",\"z\"])\n",
    "print(srs_with_labels)\n",
    "print(srs_with_labels['z'])"
   ]
  },
  {
   "cell_type": "markdown",
   "metadata": {},
   "source": [
    "Key/Value pair(dictionary) as series"
   ]
  },
  {
   "cell_type": "code",
   "execution_count": 14,
   "metadata": {},
   "outputs": [
    {
     "name": "stdout",
     "output_type": "stream",
     "text": [
      "day1    223\n",
      "day2    324\n",
      "day3    670\n",
      "day4    100\n",
      "dtype: int64\n"
     ]
    }
   ],
   "source": [
    "calorie = {\n",
    "    \"day1\":223,\n",
    "    \"day2\":324,\n",
    "    \"day3\":670,\n",
    "    \"day4\":100\n",
    "}\n",
    "dict_as_srs = pd.Series(calorie)\n",
    "print(dict_as_srs)"
   ]
  },
  {
   "cell_type": "code",
   "execution_count": 15,
   "metadata": {},
   "outputs": [
    {
     "name": "stdout",
     "output_type": "stream",
     "text": [
      "day1    223\n",
      "day3    670\n",
      "dtype: int64\n"
     ]
    }
   ],
   "source": [
    "#to select some of the items from dict use index\n",
    "calorie = {\n",
    "    \"day1\":223,\n",
    "    \"day2\":324,\n",
    "    \"day3\":670,\n",
    "    \"day4\":100\n",
    "}\n",
    "dict_as_srs = pd.Series(calorie,index=[\"day1\",\"day3\"])\n",
    "print(dict_as_srs)"
   ]
  },
  {
   "cell_type": "markdown",
   "metadata": {},
   "source": [
    "Dataframes:\n",
    "its like a whole table with rows and columns\n",
    "whereas series is like column\n",
    "\n",
    "datasets in pandas are usually multi-dimensional tables, called data frames"
   ]
  },
  {
   "cell_type": "code",
   "execution_count": 17,
   "metadata": {},
   "outputs": [
    {
     "name": "stdout",
     "output_type": "stream",
     "text": [
      "   calories  duration\n",
      "0       120        12\n",
      "1       203        34\n",
      "2       450        60\n",
      "3       128        16\n"
     ]
    }
   ],
   "source": [
    "data = {\n",
    "    \"calories\":[120,203,450,128],\n",
    "    \"duration\":[12,34,60,16]\n",
    "}\n",
    "df = pd.DataFrame(data)\n",
    "print(df)"
   ]
  },
  {
   "cell_type": "markdown",
   "metadata": {},
   "source": [
    "Locate row\n",
    "\n",
    "as dataframe is a table with rows and columns.\n",
    "pandas uses loc attribute to return one or more specified row"
   ]
  },
  {
   "cell_type": "code",
   "execution_count": 19,
   "metadata": {},
   "outputs": [
    {
     "name": "stdout",
     "output_type": "stream",
     "text": [
      "calories    120\n",
      "duration     12\n",
      "Name: 0, dtype: int64\n"
     ]
    }
   ],
   "source": [
    "print(df.loc[0])#returns a series"
   ]
  },
  {
   "cell_type": "code",
   "execution_count": 21,
   "metadata": {},
   "outputs": [
    {
     "name": "stdout",
     "output_type": "stream",
     "text": [
      "   calories  duration\n",
      "0       120        12\n",
      "1       203        34\n"
     ]
    }
   ],
   "source": [
    "#list of indexes\n",
    "print(df.loc[[0,1]])"
   ]
  },
  {
   "cell_type": "code",
   "execution_count": 24,
   "metadata": {},
   "outputs": [
    {
     "name": "stdout",
     "output_type": "stream",
     "text": [
      "      calories  duration\n",
      "day1       120        12\n",
      "day2       203        34\n",
      "day3       450        60\n",
      "day4       128        16\n",
      "calories    203\n",
      "duration     34\n",
      "Name: day2, dtype: int64\n"
     ]
    }
   ],
   "source": [
    "#named indexes\n",
    "\n",
    "df = pd.DataFrame(data, index=[\"day1\",\"day2\",\"day3\",\"day4\"])\n",
    "print(df)\n",
    "\n",
    "#locate named index\n",
    "print(df.loc[\"day2\"])"
   ]
  },
  {
   "cell_type": "markdown",
   "metadata": {},
   "source": [
    "Read CSV files\n",
    "\n",
    "- simple way to store big data sets is to use CSV files (comma seperated files)\n",
    "\n"
   ]
  },
  {
   "cell_type": "code",
   "execution_count": 27,
   "metadata": {},
   "outputs": [
    {
     "name": "stdout",
     "output_type": "stream",
     "text": [
      "    Code Symbol                      Name\n",
      "0    AED    د.إ    United Arab Emirates d\n",
      "1    AFN      ؋            Afghan afghani\n",
      "2    ALL      L              Albanian lek\n",
      "3    AMD    AMD             Armenian dram\n",
      "4    ANG      ƒ  Netherlands Antillean gu\n",
      "5    AOA     Kz            Angolan kwanza\n",
      "6    ARS      $            Argentine peso\n",
      "7    AUD      $         Australian dollar\n",
      "8    AWG   Afl.             Aruban florin\n",
      "9    AZN    AZN         Azerbaijani manat\n",
      "10   BAM     KM   Bosnia and Herzegovina \n",
      "11   BBD      $          Barbadian dollar\n",
      "12   BDT     ৳           Bangladeshi taka\n",
      "13   BGN    лв.             Bulgarian lev\n",
      "14   BHD   .د.ب            Bahraini dinar\n",
      "15   BIF     Fr           Burundian franc\n",
      "16   BMD      $          Bermudian dollar\n",
      "17   BND      $             Brunei dollar\n",
      "18   BOB    Bs.        Bolivian boliviano\n",
      "19   BRL     R$            Brazilian real\n",
      "20   BSD      $           Bahamian dollar\n",
      "21   BTC      ฿                   Bitcoin\n",
      "22   BTN    Nu.        Bhutanese ngultrum\n",
      "23   BWP      P             Botswana pula\n",
      "24   BYR     Br   Belarusian ruble (old)'\n",
      "25   BYN     Br          Belarusian ruble\n",
      "26   BZD      $             Belize dollar\n",
      "27   CAD      $           Canadian dollar\n",
      "28   CDF     Fr           Congolese franc\n",
      "29   CHF    CHF               Swiss franc\n",
      "30   CLP      $              Chilean peso\n",
      "31   CNY      ¥              Chinese yuan\n",
      "32   COP      $            Colombian peso\n",
      "33   CRC      ₡         Costa Rican colón\n",
      "34   CUC      $  Cuban convertible peso')\n",
      "35   CUP      $                Cuban peso\n",
      "36   CVE      $       Cape Verdean escudo\n",
      "37   CZK     Kč              Czech koruna\n",
      "38   DJF     Fr          Djiboutian franc\n",
      "39   DKK    DKK              Danish krone\n",
      "40   DOP    RD$            Dominican peso\n",
      "41   DZD    د.ج            Algerian dinar\n",
      "42   EGP    EGP            Egyptian pound\n",
      "43   ERN    Nfk            Eritrean nakfa\n",
      "44   ETB     Br            Ethiopian birr\n",
      "45   EUR      €                      Euro\n",
      "46   FJD      $             Fijian dollar\n",
      "47   FKP      £  Falkland Islands pound')\n",
      "48   GBP      £            Pound sterling\n",
      "49   GEL      ₾             Georgian lari\n",
      "50   GGP      £            Guernsey pound\n",
      "51   GHS      ₵                Ghana cedi\n",
      "52   GIP      £           Gibraltar pound\n",
      "53   GMD      D            Gambian dalasi\n",
      "54   GNF     Fr             Guinean franc\n",
      "55   GTQ      Q        Guatemalan quetzal\n",
      "56   GYD      $           Guyanese dollar\n",
      "57   HKD      $          Hong Kong dollar\n",
      "58   HNL      L          Honduran lempira\n",
      "59   HRK     kn             Croatian kuna\n",
      "60   HTG      G            Haitian gourde\n",
      "61   HUF     Ft          Hungarian forint\n",
      "62   IDR     Rp         Indonesian rupiah\n",
      "63   ILS      ₪        Israeli new shekel\n",
      "64   IMP      £                Manx pound\n",
      "65   INR      ₹              Indian rupee\n",
      "66   IQD    ع.د               Iraqi dinar\n",
      "67   IRR      ﷼              Iranian rial\n",
      "68   IRT  تومان             Iranian toman\n",
      "69   ISK    kr.           Icelandic króna\n",
      "70   JEP      £              Jersey pound\n",
      "71   JMD      $           Jamaican dollar\n",
      "72   JOD    د.ا           Jordanian dinar\n",
      "73   JPY      ¥              Japanese yen\n",
      "74   KES    KSh           Kenyan shilling\n",
      "75   KGS    сом           Kyrgyzstani som\n",
      "76   KHR      ៛            Cambodian riel\n",
      "77   KMF     Fr            Comorian franc\n",
      "78   KPW      ₩          North Korean won\n",
      "79   KRW      ₩          South Korean won\n",
      "80   KWD    د.ك             Kuwaiti dinar\n",
      "81   KYD      $     Cayman Islands dollar\n",
      "82   KZT      ₸         Kazakhstani tenge\n",
      "83   LAK      ₭                   Lao kip\n",
      "84   LBP    ل.ل            Lebanese pound\n",
      "85   LKR     රු          Sri Lankan rupee\n",
      "86   LRD      $           Liberian dollar\n",
      "87   LSL      L              Lesotho loti\n",
      "88   LYD    ل.د              Libyan dinar\n",
      "89   MAD   د.م.           Moroccan dirham\n",
      "90   MDL    MDL              Moldovan leu\n",
      "91   MGA     Ar           Malagasy ariary\n",
      "92   MKD    ден          Macedonian denar\n",
      "93   MMK     Ks              Burmese kyat\n",
      "94   MNT      ₮          Mongolian tögrög\n",
      "95   MOP      P           Macanese pataca\n",
      "96   MRU     UM       Mauritanian ouguiya\n",
      "97   MUR      ₨           Mauritian rupee\n",
      "98   MVR     .ރ         Maldivian rufiyaa\n",
      "99   MWK     MK           Malawian kwacha\n",
      "100  MXN      $              Mexican peso\n",
      "101  MYR     RM         Malaysian ringgit\n",
      "102  MZN     MT        Mozambican metical\n",
      "103  NAD     N$           Namibian dollar\n",
      "104  NGN      ₦            Nigerian naira\n",
      "105  NIO     C$        Nicaraguan córdoba\n",
      "106  NOK     kr           Norwegian krone\n",
      "107  NPR      ₨            Nepalese rupee\n",
      "108  NZD      $        New Zealand dollar\n",
      "109  OMR   ر.ع.                Omani rial\n",
      "110  PAB    B/.         Panamanian balboa\n",
      "111  PEN     S/                       Sol\n",
      "112  PGK      K  Papua New Guinean kina')\n",
      "113  PHP      ₱           Philippine peso\n",
      "114  PKR      ₨           Pakistani rupee\n",
      "115  PLN     zł              Polish złoty\n",
      "116  PRB     р.       Transnistrian ruble\n",
      "117  PYG      ₲        Paraguayan guaraní\n",
      "118  QAR    ر.ق              Qatari riyal\n",
      "119  RON    lei              Romanian leu\n",
      "120  RSD    рсд             Serbian dinar\n",
      "121  RUB      ₽             Russian ruble\n",
      "122  RWF     Fr             Rwandan franc\n",
      "123  SAR    ر.س               Saudi riyal\n",
      "124  SBD      $  Solomon Islands dollar')\n",
      "125  SCR      ₨         Seychellois rupee\n",
      "126  SDG   ج.س.            Sudanese pound\n",
      "127  SEK     kr             Swedish krona\n",
      "128  SGD      $          Singapore dollar\n",
      "129  SHP      £        Saint Helena pound\n",
      "130  SLL     Le      Sierra Leonean leone\n",
      "131  SOS     Sh           Somali shilling\n",
      "132  SRD      $         Surinamese dollar\n",
      "133  SSP      £      South Sudanese pound\n",
      "134  STN     Db   São Tomé and Príncipe d\n",
      "135  SYP    ل.س              Syrian pound\n",
      "136  SZL      L           Swazi lilangeni\n",
      "137  THB      ฿                 Thai baht\n",
      "138  TJS     ЅМ        Tajikistani somoni\n",
      "139  TMT      m        Turkmenistan manat\n",
      "140  TND    د.ت            Tunisian dinar\n",
      "141  TOP     T$            Tongan paʻanga\n",
      "142  TRY      ₺              Turkish lira\n",
      "143  TTD      $  Trinidad and Tobago doll\n",
      "144  TWD    NT$         New Taiwan dollar\n",
      "145  TZS     Sh        Tanzanian shilling\n",
      "146  UAH      ₴         Ukrainian hryvnia\n",
      "147  UGX    UGX          Ugandan shilling\n",
      "148  USD      $  United States (US) dolla\n",
      "149  UYU      $            Uruguayan peso\n",
      "150  UZS    UZS           Uzbekistani som\n",
      "151  VEF   Bs F        Venezuelan bolívar\n",
      "152  VES   Bs.S          Bolívar soberano\n",
      "153  VND      ₫           Vietnamese đồng\n",
      "154  VUV     Vt              Vanuatu vatu\n",
      "155  WST      T               Samoan tālā\n",
      "156  XAF    CFA    Central African CFA fr\n",
      "157  XCD      $     East Caribbean dollar\n",
      "158  XOF    CFA    West African CFA franc\n",
      "159  XPF     Fr                 CFP franc\n",
      "160  YER      ﷼               Yemeni rial\n",
      "161  ZAR      R        South African rand\n",
      "162  ZMW     ZK            Zambian kwacha\n"
     ]
    }
   ],
   "source": [
    "df = pd.read_csv('currency.csv')\n",
    "\n",
    "print(df.to_string())"
   ]
  },
  {
   "cell_type": "code",
   "execution_count": 33,
   "metadata": {},
   "outputs": [
    {
     "name": "stdout",
     "output_type": "stream",
     "text": [
      "    fruit   size   color\n",
      "0   Apple  Large     Red\n",
      "1  Orange  Large  orange\n"
     ]
    }
   ],
   "source": [
    "#Read json\n",
    "gg = pd.read_json('sample1.json')\n",
    "print(gg.to_string())"
   ]
  },
  {
   "cell_type": "markdown",
   "metadata": {},
   "source": [
    "Analyzing Dataframes"
   ]
  },
  {
   "cell_type": "code",
   "execution_count": 34,
   "metadata": {},
   "outputs": [
    {
     "name": "stdout",
     "output_type": "stream",
     "text": [
      "  Code Symbol                      Name\n",
      "0  AED    د.إ    United Arab Emirates d\n",
      "1  AFN      ؋            Afghan afghani\n",
      "2  ALL      L              Albanian lek\n",
      "3  AMD    AMD             Armenian dram\n",
      "4  ANG      ƒ  Netherlands Antillean gu\n",
      "5  AOA     Kz            Angolan kwanza\n",
      "6  ARS      $            Argentine peso\n",
      "7  AUD      $         Australian dollar\n",
      "8  AWG   Afl.             Aruban florin\n",
      "9  AZN    AZN         Azerbaijani manat\n"
     ]
    }
   ],
   "source": [
    "#head(): \n",
    "    #returns the headers and specified number of rows\n",
    "rd = pd.read_csv('currency.csv')\n",
    "print(rd.head(10))"
   ]
  },
  {
   "cell_type": "code",
   "execution_count": 35,
   "metadata": {},
   "outputs": [
    {
     "name": "stdout",
     "output_type": "stream",
     "text": [
      "    Code Symbol                    Name\n",
      "158  XOF    CFA  West African CFA franc\n",
      "159  XPF     Fr               CFP franc\n",
      "160  YER      ﷼             Yemeni rial\n",
      "161  ZAR      R      South African rand\n",
      "162  ZMW     ZK          Zambian kwacha\n"
     ]
    }
   ],
   "source": [
    "##tail():\n",
    "    #returns the headers and specified numbers of rows from the bottom\n",
    "print(rd.tail(5))"
   ]
  },
  {
   "cell_type": "code",
   "execution_count": 36,
   "metadata": {},
   "outputs": [
    {
     "name": "stdout",
     "output_type": "stream",
     "text": [
      "<class 'pandas.core.frame.DataFrame'>\n",
      "RangeIndex: 163 entries, 0 to 162\n",
      "Data columns (total 3 columns):\n",
      " #   Column  Non-Null Count  Dtype \n",
      "---  ------  --------------  ----- \n",
      " 0   Code    163 non-null    object\n",
      " 1   Symbol  163 non-null    object\n",
      " 2   Name    163 non-null    object\n",
      "dtypes: object(3)\n",
      "memory usage: 3.9+ KB\n",
      "None\n"
     ]
    }
   ],
   "source": [
    "#info():\n",
    "    #gives infot about the data\n",
    "print(rd.info())\n"
   ]
  },
  {
   "cell_type": "code",
   "execution_count": 37,
   "metadata": {},
   "outputs": [
    {
     "data": {
      "text/html": [
       "<div>\n",
       "<style scoped>\n",
       "    .dataframe tbody tr th:only-of-type {\n",
       "        vertical-align: middle;\n",
       "    }\n",
       "\n",
       "    .dataframe tbody tr th {\n",
       "        vertical-align: top;\n",
       "    }\n",
       "\n",
       "    .dataframe thead th {\n",
       "        text-align: right;\n",
       "    }\n",
       "</style>\n",
       "<table border=\"1\" class=\"dataframe\">\n",
       "  <thead>\n",
       "    <tr style=\"text-align: right;\">\n",
       "      <th></th>\n",
       "      <th>Code</th>\n",
       "      <th>Symbol</th>\n",
       "      <th>Name</th>\n",
       "    </tr>\n",
       "  </thead>\n",
       "  <tbody>\n",
       "    <tr>\n",
       "      <th>0</th>\n",
       "      <td>AED</td>\n",
       "      <td>د.إ</td>\n",
       "      <td>United Arab Emirates d</td>\n",
       "    </tr>\n",
       "    <tr>\n",
       "      <th>1</th>\n",
       "      <td>AFN</td>\n",
       "      <td>؋</td>\n",
       "      <td>Afghan afghani</td>\n",
       "    </tr>\n",
       "    <tr>\n",
       "      <th>2</th>\n",
       "      <td>ALL</td>\n",
       "      <td>L</td>\n",
       "      <td>Albanian lek</td>\n",
       "    </tr>\n",
       "    <tr>\n",
       "      <th>3</th>\n",
       "      <td>AMD</td>\n",
       "      <td>AMD</td>\n",
       "      <td>Armenian dram</td>\n",
       "    </tr>\n",
       "    <tr>\n",
       "      <th>4</th>\n",
       "      <td>ANG</td>\n",
       "      <td>ƒ</td>\n",
       "      <td>Netherlands Antillean gu</td>\n",
       "    </tr>\n",
       "    <tr>\n",
       "      <th>...</th>\n",
       "      <td>...</td>\n",
       "      <td>...</td>\n",
       "      <td>...</td>\n",
       "    </tr>\n",
       "    <tr>\n",
       "      <th>158</th>\n",
       "      <td>XOF</td>\n",
       "      <td>CFA</td>\n",
       "      <td>West African CFA franc</td>\n",
       "    </tr>\n",
       "    <tr>\n",
       "      <th>159</th>\n",
       "      <td>XPF</td>\n",
       "      <td>Fr</td>\n",
       "      <td>CFP franc</td>\n",
       "    </tr>\n",
       "    <tr>\n",
       "      <th>160</th>\n",
       "      <td>YER</td>\n",
       "      <td>﷼</td>\n",
       "      <td>Yemeni rial</td>\n",
       "    </tr>\n",
       "    <tr>\n",
       "      <th>161</th>\n",
       "      <td>ZAR</td>\n",
       "      <td>R</td>\n",
       "      <td>South African rand</td>\n",
       "    </tr>\n",
       "    <tr>\n",
       "      <th>162</th>\n",
       "      <td>ZMW</td>\n",
       "      <td>ZK</td>\n",
       "      <td>Zambian kwacha</td>\n",
       "    </tr>\n",
       "  </tbody>\n",
       "</table>\n",
       "<p>163 rows × 3 columns</p>\n",
       "</div>"
      ],
      "text/plain": [
       "    Code Symbol                      Name\n",
       "0    AED    د.إ    United Arab Emirates d\n",
       "1    AFN      ؋            Afghan afghani\n",
       "2    ALL      L              Albanian lek\n",
       "3    AMD    AMD             Armenian dram\n",
       "4    ANG      ƒ  Netherlands Antillean gu\n",
       "..   ...    ...                       ...\n",
       "158  XOF    CFA    West African CFA franc\n",
       "159  XPF     Fr                 CFP franc\n",
       "160  YER      ﷼               Yemeni rial\n",
       "161  ZAR      R        South African rand\n",
       "162  ZMW     ZK            Zambian kwacha\n",
       "\n",
       "[163 rows x 3 columns]"
      ]
     },
     "execution_count": 37,
     "metadata": {},
     "output_type": "execute_result"
    }
   ],
   "source": [
    "rd"
   ]
  },
  {
   "cell_type": "markdown",
   "metadata": {},
   "source": []
  },
  {
   "cell_type": "code",
   "execution_count": 39,
   "metadata": {},
   "outputs": [
    {
     "data": {
      "text/html": [
       "<div>\n",
       "<style scoped>\n",
       "    .dataframe tbody tr th:only-of-type {\n",
       "        vertical-align: middle;\n",
       "    }\n",
       "\n",
       "    .dataframe tbody tr th {\n",
       "        vertical-align: top;\n",
       "    }\n",
       "\n",
       "    .dataframe thead th {\n",
       "        text-align: right;\n",
       "    }\n",
       "</style>\n",
       "<table border=\"1\" class=\"dataframe\">\n",
       "  <thead>\n",
       "    <tr style=\"text-align: right;\">\n",
       "      <th></th>\n",
       "      <th>Code</th>\n",
       "      <th>Symbol</th>\n",
       "      <th>Name</th>\n",
       "    </tr>\n",
       "  </thead>\n",
       "  <tbody>\n",
       "    <tr>\n",
       "      <th>count</th>\n",
       "      <td>163</td>\n",
       "      <td>163</td>\n",
       "      <td>163</td>\n",
       "    </tr>\n",
       "    <tr>\n",
       "      <th>unique</th>\n",
       "      <td>163</td>\n",
       "      <td>107</td>\n",
       "      <td>163</td>\n",
       "    </tr>\n",
       "    <tr>\n",
       "      <th>top</th>\n",
       "      <td>AED</td>\n",
       "      <td>$</td>\n",
       "      <td>United Arab Emirates d</td>\n",
       "    </tr>\n",
       "    <tr>\n",
       "      <th>freq</th>\n",
       "      <td>1</td>\n",
       "      <td>28</td>\n",
       "      <td>1</td>\n",
       "    </tr>\n",
       "  </tbody>\n",
       "</table>\n",
       "</div>"
      ],
      "text/plain": [
       "       Code Symbol                    Name\n",
       "count   163    163                     163\n",
       "unique  163    107                     163\n",
       "top     AED      $  United Arab Emirates d\n",
       "freq      1     28                       1"
      ]
     },
     "execution_count": 39,
     "metadata": {},
     "output_type": "execute_result"
    }
   ],
   "source": [
    "df.describe()\n",
    "\n"
   ]
  },
  {
   "cell_type": "code",
   "execution_count": 40,
   "metadata": {},
   "outputs": [
    {
     "data": {
      "text/html": [
       "<div>\n",
       "<style scoped>\n",
       "    .dataframe tbody tr th:only-of-type {\n",
       "        vertical-align: middle;\n",
       "    }\n",
       "\n",
       "    .dataframe tbody tr th {\n",
       "        vertical-align: top;\n",
       "    }\n",
       "\n",
       "    .dataframe thead th {\n",
       "        text-align: right;\n",
       "    }\n",
       "</style>\n",
       "<table border=\"1\" class=\"dataframe\">\n",
       "  <thead>\n",
       "    <tr style=\"text-align: right;\">\n",
       "      <th></th>\n",
       "      <th>Code</th>\n",
       "      <th>Symbol</th>\n",
       "      <th>Name</th>\n",
       "    </tr>\n",
       "  </thead>\n",
       "  <tbody>\n",
       "    <tr>\n",
       "      <th>0</th>\n",
       "      <td>False</td>\n",
       "      <td>False</td>\n",
       "      <td>False</td>\n",
       "    </tr>\n",
       "    <tr>\n",
       "      <th>1</th>\n",
       "      <td>False</td>\n",
       "      <td>False</td>\n",
       "      <td>False</td>\n",
       "    </tr>\n",
       "    <tr>\n",
       "      <th>2</th>\n",
       "      <td>False</td>\n",
       "      <td>False</td>\n",
       "      <td>False</td>\n",
       "    </tr>\n",
       "    <tr>\n",
       "      <th>3</th>\n",
       "      <td>False</td>\n",
       "      <td>False</td>\n",
       "      <td>False</td>\n",
       "    </tr>\n",
       "    <tr>\n",
       "      <th>4</th>\n",
       "      <td>False</td>\n",
       "      <td>False</td>\n",
       "      <td>False</td>\n",
       "    </tr>\n",
       "    <tr>\n",
       "      <th>...</th>\n",
       "      <td>...</td>\n",
       "      <td>...</td>\n",
       "      <td>...</td>\n",
       "    </tr>\n",
       "    <tr>\n",
       "      <th>158</th>\n",
       "      <td>False</td>\n",
       "      <td>False</td>\n",
       "      <td>False</td>\n",
       "    </tr>\n",
       "    <tr>\n",
       "      <th>159</th>\n",
       "      <td>False</td>\n",
       "      <td>False</td>\n",
       "      <td>False</td>\n",
       "    </tr>\n",
       "    <tr>\n",
       "      <th>160</th>\n",
       "      <td>False</td>\n",
       "      <td>False</td>\n",
       "      <td>False</td>\n",
       "    </tr>\n",
       "    <tr>\n",
       "      <th>161</th>\n",
       "      <td>False</td>\n",
       "      <td>False</td>\n",
       "      <td>False</td>\n",
       "    </tr>\n",
       "    <tr>\n",
       "      <th>162</th>\n",
       "      <td>False</td>\n",
       "      <td>False</td>\n",
       "      <td>False</td>\n",
       "    </tr>\n",
       "  </tbody>\n",
       "</table>\n",
       "<p>163 rows × 3 columns</p>\n",
       "</div>"
      ],
      "text/plain": [
       "      Code  Symbol   Name\n",
       "0    False   False  False\n",
       "1    False   False  False\n",
       "2    False   False  False\n",
       "3    False   False  False\n",
       "4    False   False  False\n",
       "..     ...     ...    ...\n",
       "158  False   False  False\n",
       "159  False   False  False\n",
       "160  False   False  False\n",
       "161  False   False  False\n",
       "162  False   False  False\n",
       "\n",
       "[163 rows x 3 columns]"
      ]
     },
     "execution_count": 40,
     "metadata": {},
     "output_type": "execute_result"
    }
   ],
   "source": [
    "df.isnull()"
   ]
  },
  {
   "cell_type": "code",
   "execution_count": 41,
   "metadata": {},
   "outputs": [
    {
     "data": {
      "text/plain": [
       "Code      False\n",
       "Symbol    False\n",
       "Name      False\n",
       "dtype: bool"
      ]
     },
     "execution_count": 41,
     "metadata": {},
     "output_type": "execute_result"
    }
   ],
   "source": [
    "df.isnull().any()"
   ]
  },
  {
   "cell_type": "code",
   "execution_count": 42,
   "metadata": {},
   "outputs": [
    {
     "data": {
      "text/plain": [
       "Code      0\n",
       "Symbol    0\n",
       "Name      0\n",
       "dtype: int64"
      ]
     },
     "execution_count": 42,
     "metadata": {},
     "output_type": "execute_result"
    }
   ],
   "source": [
    "df.isnull().sum()"
   ]
  },
  {
   "cell_type": "code",
   "execution_count": null,
   "metadata": {},
   "outputs": [],
   "source": [
    "                 "
   ]
  }
 ],
 "metadata": {
  "kernelspec": {
   "display_name": "venv",
   "language": "python",
   "name": "python3"
  },
  "language_info": {
   "codemirror_mode": {
    "name": "ipython",
    "version": 3
   },
   "file_extension": ".py",
   "mimetype": "text/x-python",
   "name": "python",
   "nbconvert_exporter": "python",
   "pygments_lexer": "ipython3",
   "version": "3.11.13"
  }
 },
 "nbformat": 4,
 "nbformat_minor": 2
}
