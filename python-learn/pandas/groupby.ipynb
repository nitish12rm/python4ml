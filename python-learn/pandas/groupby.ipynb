{
 "cells": [
  {
   "cell_type": "markdown",
   "metadata": {},
   "source": [
    "Pandas groupby\n",
    "\n",
    "In Pandas, the groupby operation lets us group data based on specific columns. This means we can divide a DataFrame into smaller groups based on the values in these columns.\n",
    "\n",
    "Once grouped, we can then apply functions to each group separately. These functions help summarize or aggregate the data in each group."
   ]
  },
  {
   "cell_type": "code",
   "execution_count": 1,
   "metadata": {},
   "outputs": [
    {
     "name": "stdout",
     "output_type": "stream",
     "text": [
      "Category\n",
      "Clothing        800\n",
      "Electronics    1800\n",
      "Name: Sales, dtype: int64\n"
     ]
    }
   ],
   "source": [
    "import pandas as pd\n",
    "\n",
    "# create a dictionary containing the data\n",
    "data = {'Category': ['Electronics', 'Clothing', 'Electronics', 'Clothing'],\n",
    "        'Sales': [1000, 500, 800, 300]}\n",
    "\n",
    "# create a DataFrame using the data dictionary\n",
    "df = pd.DataFrame(data)\n",
    "\n",
    "# group the DataFrame by the Category column and\n",
    "# calculate the sum of Sales for each category\n",
    "grouped = df.groupby('Category')['Sales'].sum()\n",
    "\n",
    "# print the grouped data\n",
    "print(grouped)"
   ]
  },
  {
   "cell_type": "markdown",
   "metadata": {},
   "source": [
    "Group by a Multiple Column in Pandas\n",
    "We can also group multiple columns and calculate multiple aggregates in Pandas."
   ]
  },
  {
   "cell_type": "code",
   "execution_count": null,
   "metadata": {},
   "outputs": [
    {
     "name": "stdout",
     "output_type": "stream",
     "text": [
      "             Score    \n",
      "              mean max\n",
      "Gender Grade          \n",
      "Female A      88.0  88\n",
      "       B      85.0  85\n",
      "Male   A      91.0  92\n",
      "       B      78.0  78\n"
     ]
    }
   ],
   "source": [
    "\n",
    "# create a DataFrame with student data\n",
    "data = {\n",
    "    'Gender': ['Male', 'Female', 'Male', 'Female', 'Male'],\n",
    "    'Grade': ['A', 'B', 'A', 'A', 'B'],\n",
    "    'Score': [90, 85, 92, 88, 78]\n",
    "}\n",
    "\n",
    "df = pd.DataFrame(data)\n",
    "# define the aggregate functions to be applied to the Score column\n",
    "agg_functions = {\n",
    "    # calculate both mean and maximum of the Score column\n",
    "    'Score': ['mean', 'max'] \n",
    "}\n",
    "\n",
    "# group the DataFrame by Gender and Grade, then apply the aggregate functions\n",
    "grouped = df.groupby(['Gender', 'Grade']).aggregate(agg_functions)\n",
    "\n",
    "# print the resulting grouped DataFrame\n",
    "print(grouped)"
   ]
  }
 ],
 "metadata": {
  "kernelspec": {
   "display_name": "venv",
   "language": "python",
   "name": "python3"
  },
  "language_info": {
   "codemirror_mode": {
    "name": "ipython",
    "version": 3
   },
   "file_extension": ".py",
   "mimetype": "text/x-python",
   "name": "python",
   "nbconvert_exporter": "python",
   "pygments_lexer": "ipython3",
   "version": "3.11.13"
  }
 },
 "nbformat": 4,
 "nbformat_minor": 2
}
