{
 "cells": [
  {
   "cell_type": "markdown",
   "metadata": {},
   "source": [
    "Pandas Correlation\n",
    "\n",
    "Correlation is a statistical concept that quantifies the degree to which two variables are related to each other.\n",
    "\n",
    "Correlation can be calculated in Pandas using the corr() function.\n",
    "\n",
    "Let's look at an example.\n",
    "\n"
   ]
  },
  {
   "cell_type": "code",
   "execution_count": 1,
   "metadata": {},
   "outputs": [
    {
     "name": "stdout",
     "output_type": "stream",
     "text": [
      "                 Temperature  Ice_Cream_Sales\n",
      "Temperature         1.000000         0.923401\n",
      "Ice_Cream_Sales     0.923401         1.000000\n"
     ]
    }
   ],
   "source": [
    "import pandas as pd\n",
    "\n",
    "# create dataframe\n",
    "data = {\n",
    "    \"Temperature\": [22, 25, 32, 28, 30],\n",
    "    \"Ice_Cream_Sales\": [105, 120, 135, 130, 125]\n",
    "}\n",
    "\n",
    "df = pd.DataFrame(data)\n",
    "\n",
    "# calculate correlation matrix\n",
    "print(df.corr())"
   ]
  },
  {
   "cell_type": "markdown",
   "metadata": {},
   "source": [
    "Positive and Negative Correlation\n",
    "Positive correlation refers to a relationship between two variables where they both tend to change in the same direction. When one variable increases, the other variable also tends to increase, and when one variable decreases, the other variable also tends to decrease."
   ]
  },
  {
   "cell_type": "markdown",
   "metadata": {},
   "source": []
  },
  {
   "cell_type": "markdown",
   "metadata": {},
   "source": [
    "Negative correlation, on the other hand, refers to a relationship between two variables where they tend to change in opposite directions. When one variable increases, the other variable tends to decrease, and vice versa."
   ]
  },
  {
   "cell_type": "markdown",
   "metadata": {},
   "source": [
    "Instead of finding the whole correlation matrix, we can specify the columns to calculate correlation between them."
   ]
  },
  {
   "cell_type": "code",
   "execution_count": 2,
   "metadata": {},
   "outputs": [
    {
     "name": "stdout",
     "output_type": "stream",
     "text": [
      "0.9234007664064656\n"
     ]
    }
   ],
   "source": [
    "import pandas as pd\n",
    "\n",
    "# create dataframe\n",
    "data = {\n",
    "    \"Temperature\": [22, 25, 32, 28, 30],\n",
    "    \"Ice_Cream_Sales\": [105, 120, 135, 130, 125]\n",
    "}\n",
    "\n",
    "df = pd.DataFrame(data)\n",
    "\n",
    "# calculate correlation coefficient\n",
    "correlation = df['Temperature'].corr(df[\"Ice_Cream_Sales\"])\n",
    "\n",
    "print(correlation)"
   ]
  },
  {
   "cell_type": "markdown",
   "metadata": {},
   "source": [
    "Correlation Methods in Pandas\n",
    "We can calculate correlation using three different methods in Pandas:\n",
    "\n",
    "Pearson Method (Default): evaluates the linear relationship between two continuous variables\n",
    "Kendall Method: measures the ordinal association between two measured quantities\n",
    "Spearman Method: evaluates the monotonic relationship between two continuous or ordinal variables\n",
    "By default, corr() computes the Pearson correlation coefficient, which measures the linear relationship between two variables.\n",
    "\n"
   ]
  },
  {
   "cell_type": "code",
   "execution_count": 3,
   "metadata": {},
   "outputs": [
    {
     "name": "stdout",
     "output_type": "stream",
     "text": [
      "Pearson's Coefficient: 0.9234007664064656\n",
      "Kendall's Coefficient: 0.7999999999999999\n",
      "Spearman's Coefficient: 0.8999999999999998\n"
     ]
    }
   ],
   "source": [
    "\n",
    "# create dataframe\n",
    "data = {\n",
    "    \"Temperature\": [22, 25, 32, 28, 30],\n",
    "    \"Ice_Cream_Sales\": [105, 120, 135, 130, 125]\n",
    "}\n",
    "\n",
    "df = pd.DataFrame(data)\n",
    "\n",
    "# calculate different correlation coefficients\n",
    "pearson = df['Temperature'].corr(df[\"Ice_Cream_Sales\"])\n",
    "kendall = df['Temperature'].corr(df[\"Ice_Cream_Sales\"], method='kendall')\n",
    "spearman = df['Temperature'].corr(df[\"Ice_Cream_Sales\"], method='spearman')\n",
    "\n",
    "# display different correlation coefficient\n",
    "print(f\"Pearson's Coefficient: {pearson}\")\n",
    "print(f\"Kendall's Coefficient: {kendall}\")\n",
    "print(f\"Spearman's Coefficient: {spearman}\")"
   ]
  },
  {
   "cell_type": "markdown",
   "metadata": {},
   "source": [
    "Perfect, Good & Bad Correlation\n",
    "We can interpret the correlation values as:\n",
    "\n",
    "Perfect Correlation\n",
    "\n",
    "A perfect positive correlation implies that for every increase in one variable, there is a proportionate increase in the other variable, indicated by a coefficient of +1.\n",
    "\n",
    "A perfect negative correlation, represented by -1, signifies that an increase in one variable leads to a proportionate decrease in the other.\n",
    "\n",
    "Good Correlation\n",
    "\n",
    "A good correlation can range from 0.5 to 0.9 (positive or negative) and generally indicates a strong relationship between the variables, but it doesn't mean the relationship is perfect.\n",
    "\n",
    "Bad Correlation\n",
    "\n",
    "A bad correlation is typically close to zero, indicating that there is no relationship or any form of dependence between the two variables."
   ]
  }
 ],
 "metadata": {
  "kernelspec": {
   "display_name": "venv",
   "language": "python",
   "name": "python3"
  },
  "language_info": {
   "codemirror_mode": {
    "name": "ipython",
    "version": 3
   },
   "file_extension": ".py",
   "mimetype": "text/x-python",
   "name": "python",
   "nbconvert_exporter": "python",
   "pygments_lexer": "ipython3",
   "version": "3.11.13"
  }
 },
 "nbformat": 4,
 "nbformat_minor": 2
}
