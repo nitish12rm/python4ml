{
 "cells": [
  {
   "cell_type": "code",
   "execution_count": 1,
   "metadata": {},
   "outputs": [],
   "source": [
    "import pandas as pd"
   ]
  },
  {
   "cell_type": "markdown",
   "metadata": {},
   "source": [
    "Pandas indexing and slicing\n",
    "    indexing: accessing rows and cols data from dataframe\n",
    "    slicing: accessing range of rows and cols"
   ]
  },
  {
   "cell_type": "code",
   "execution_count": 2,
   "metadata": {},
   "outputs": [
    {
     "name": "stdout",
     "output_type": "stream",
     "text": [
      "0       john\n",
      "1       emma\n",
      "2    michael\n",
      "3     sophia\n",
      "Name: name, dtype: object\n"
     ]
    }
   ],
   "source": [
    "#Acess cols of dataframe\n",
    "data = {\n",
    "    'name':['john', 'emma', 'michael','sophia'],\n",
    "    'height':[5.5,6.0,5.8,5.3],\n",
    "    'qualification':['bsc','bba','mba','bsc']\n",
    "}\n",
    "\n",
    "\n",
    "df = pd.DataFrame(data)\n",
    "\n",
    "names = df['name']\n",
    "print(names)"
   ]
  },
  {
   "cell_type": "code",
   "execution_count": 4,
   "metadata": {},
   "outputs": [
    {
     "name": "stdout",
     "output_type": "stream",
     "text": [
      "      name  height\n",
      "0     john     5.5\n",
      "1     emma     6.0\n",
      "2  michael     5.8\n",
      "3   sophia     5.3\n"
     ]
    }
   ],
   "source": [
    "##access multiple cols\n",
    "names_city = df[['name','height']]\n",
    "print(names_city)"
   ]
  },
  {
   "cell_type": "markdown",
   "metadata": {},
   "source": [
    "Pandas.loc\n",
    "    allows us to acces and modify data within dataframe using label-based indexing\n",
    "    allows us to select specific rows and cols based on their label\n",
    "\n",
    "    df.loc[row_indexer, column_indexer]\n",
    "    indexers can be single, list or boolean"
   ]
  },
  {
   "cell_type": "code",
   "execution_count": 8,
   "metadata": {},
   "outputs": [
    {
     "name": "stdout",
     "output_type": "stream",
     "text": [
      "Single row: \n",
      "name             michael\n",
      "height               5.8\n",
      "qualification        mba\n",
      "Name: 2, dtype: object\n",
      "list of rows: \n",
      "     name  height qualification\n",
      "0    john     5.5           bsc\n",
      "3  sophia     5.3           bsc\n",
      "1    emma     6.0           bba\n"
     ]
    }
   ],
   "source": [
    "single_row=df.loc[2]\n",
    "print('Single row: ')\n",
    "print(single_row)\n",
    "\n",
    "#access rows 0,3,4\n",
    "print(\"list of rows: \")\n",
    "mul_row=df.loc[[0,3,1]]\n",
    "print(mul_row)"
   ]
  },
  {
   "cell_type": "code",
   "execution_count": 9,
   "metadata": {},
   "outputs": [
    {
     "name": "stdout",
     "output_type": "stream",
     "text": [
      "      name  height qualification\n",
      "1     emma     6.0           bba\n",
      "2  michael     5.8           mba\n",
      "3   sophia     5.3           bsc\n"
     ]
    }
   ],
   "source": [
    "## slicing rows \n",
    "print(df.loc[1:3])"
   ]
  },
  {
   "cell_type": "code",
   "execution_count": 10,
   "metadata": {},
   "outputs": [
    {
     "name": "stdout",
     "output_type": "stream",
     "text": [
      "      name  height\n",
      "0     john     5.5\n",
      "1     emma     6.0\n",
      "2  michael     5.8\n",
      "3   sophia     5.3\n"
     ]
    }
   ],
   "source": [
    "## slicing  cols\n",
    "print(df.loc[:,'name':'height'])"
   ]
  },
  {
   "cell_type": "code",
   "execution_count": 11,
   "metadata": {},
   "outputs": [
    {
     "name": "stdout",
     "output_type": "stream",
     "text": [
      "      name  height qualification\n",
      "1     emma     6.0           bba\n",
      "2  michael     5.8           mba\n"
     ]
    }
   ],
   "source": [
    "#boolean indexing with loc\n",
    "print(df.loc[df['height']>5.7])"
   ]
  },
  {
   "cell_type": "code",
   "execution_count": 13,
   "metadata": {},
   "outputs": [
    {
     "name": "stdout",
     "output_type": "stream",
     "text": [
      "name             michael\n",
      "height               5.8\n",
      "qualification        mba\n",
      "Name: 2, dtype: object\n"
     ]
    }
   ],
   "source": [
    "#integer based indexing with loc\n",
    "print(df.iloc[2])"
   ]
  },
  {
   "cell_type": "code",
   "execution_count": 15,
   "metadata": {},
   "outputs": [
    {
     "name": "stdout",
     "output_type": "stream",
     "text": [
      "      name  height qualification\n",
      "0     john     5.5           bsc\n",
      "3   sophia     5.3           bsc\n",
      "2  michael     5.8           mba\n"
     ]
    }
   ],
   "source": [
    "print(df.loc[[0,3,2]])"
   ]
  },
  {
   "cell_type": "code",
   "execution_count": 16,
   "metadata": {},
   "outputs": [
    {
     "name": "stdout",
     "output_type": "stream",
     "text": [
      "      name  height qualification\n",
      "1     emma     6.0           bba\n",
      "2  michael     5.8           mba\n"
     ]
    }
   ],
   "source": [
    "#query\n",
    "#aloows to select data using a more sql like syntax\n",
    "print(df.query('height>5.7'))"
   ]
  },
  {
   "cell_type": "code",
   "execution_count": 17,
   "metadata": {},
   "outputs": [
    {
     "name": "stdout",
     "output_type": "stream",
     "text": [
      "  name  height qualification\n",
      "  john     5.5           bsc\n",
      "sophia     5.3           bsc\n"
     ]
    }
   ],
   "source": [
    "#select rows based on a list of values\n",
    "names=['sophia','john']\n",
    "#use isin() to select rows based on t he 'name' column\n",
    "selected_rows = df[df['name'].isin(names)]\n",
    "\n",
    "print(selected_rows.to_string(index=False))"
   ]
  },
  {
   "cell_type": "code",
   "execution_count": 18,
   "metadata": {},
   "outputs": [
    {
     "name": "stdout",
     "output_type": "stream",
     "text": [
      "       Continent         Country  Population\n",
      "0  North America   United States   331002651\n",
      "1         Europe         Germany    83783942\n",
      "2           Asia           China  1439323776\n",
      "3  North America          Canada    37742154\n",
      "4           Asia           Japan   126476461\n",
      "5         Europe          France    65273511\n",
      "6  North America          Mexico   128932753\n",
      "7           Asia           India  1380004385\n",
      "8         Europe  United Kingdom    67886011\n",
      "9           Asia           Nepal    29136808\n"
     ]
    }
   ],
   "source": [
    "# create a dictionary\n",
    "data = {\n",
    "    \"Continent\": [\"North America\", \"Europe\", \"Asia\", \"North America\", \"Asia\", \"Europe\", \"North America\", \"Asia\", \"Europe\", \"Asia\"],\n",
    "    \"Country\": [\"United States\", \"Germany\", \"China\", \"Canada\", \"Japan\", \"France\", \"Mexico\", \"India\", \"United Kingdom\", \"Nepal\"],\n",
    "    \"Population\": [331002651, 83783942, 1439323776, 37742154, 126476461, 65273511, 128932753, 1380004385, 67886011, 29136808]\n",
    "}\n",
    "\n",
    "# create dataframe from dictionary\n",
    "df = pd.DataFrame(data)\n",
    "print(df)"
   ]
  },
  {
   "cell_type": "markdown",
   "metadata": {},
   "source": [
    "Multiindexing:\n",
    "MultiIndex in Pandas is a hierarchical indexing structure that allows us to represent and work with higher-dimensional data efficiently.\n",
    "\n",
    "While a typical index refers to a single column, a MultiIndex contains multiple levels of indexes. Each column in a MultiIndex is linked to one another through a parent/relationship."
   ]
  },
  {
   "cell_type": "markdown",
   "metadata": {},
   "source": [
    "Notice the redundancy in the Continent column. North America and Europe are repeated three times each while Asia is repeated four times.\n",
    "\n",
    "Additionally, we have arranged the entries in a random order and used integer values as index for the rows, thus complicating the task of locating data for a particular country. This task becomes tedious as the size of the data set grows."
   ]
  },
  {
   "cell_type": "code",
   "execution_count": 19,
   "metadata": {},
   "outputs": [
    {
     "name": "stdout",
     "output_type": "stream",
     "text": [
      "                              Population\n",
      "Continent     Country                   \n",
      "Asia          China           1439323776\n",
      "              Japan            126476461\n",
      "              India           1380004385\n",
      "              Nepal             29136808\n",
      "Europe        Germany           83783942\n",
      "              France            65273511\n",
      "              United Kingdom    67886011\n",
      "North America United States    331002651\n",
      "              Canada            37742154\n",
      "              Mexico           128932753\n"
     ]
    }
   ],
   "source": [
    "#n Pandas, we achieve hierarchical indexing using the concept of MultiIndex.\n",
    "# sort the data by continent\n",
    "df.sort_values('Continent', inplace=True)\n",
    "\n",
    "# create a multiindex\n",
    "df.set_index(['Continent','Country'], inplace=True)\n",
    "\n",
    "print(df)\n"
   ]
  },
  {
   "cell_type": "code",
   "execution_count": 21,
   "metadata": {},
   "outputs": [
    {
     "name": "stdout",
     "output_type": "stream",
     "text": [
      "Asia\n",
      "          Population\n",
      "Country            \n",
      "China    1439323776\n",
      "Japan     126476461\n",
      "India    1380004385\n",
      "Nepal      29136808\n",
      "\n",
      "Canada\n",
      " Population    37742154\n",
      "Name: (North America, Canada), dtype: int64\n"
     ]
    }
   ],
   "source": [
    "# access all entries under Asia\n",
    "asia = df.loc['Asia']\n",
    "\n",
    "# access Canada\n",
    "canada = df.loc[('North America', 'Canada')]\n",
    "print('Asia\\n', asia)\n",
    "print('\\nCanada\\n', canada)"
   ]
  }
 ],
 "metadata": {
  "kernelspec": {
   "display_name": "venv",
   "language": "python",
   "name": "python3"
  },
  "language_info": {
   "codemirror_mode": {
    "name": "ipython",
    "version": 3
   },
   "file_extension": ".py",
   "mimetype": "text/x-python",
   "name": "python",
   "nbconvert_exporter": "python",
   "pygments_lexer": "ipython3",
   "version": "3.11.13"
  }
 },
 "nbformat": 4,
 "nbformat_minor": 2
}
