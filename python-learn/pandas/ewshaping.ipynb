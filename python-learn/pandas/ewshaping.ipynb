{
 "cells": [
  {
   "cell_type": "markdown",
   "metadata": {},
   "source": [
    "In Pandas, reshaping data refers to the process of converting a DataFrame from one format to another for better data visualization and analysis.\n",
    "\n",
    "Pandas provides multiple methods like pivot(), pivot_table(), stack(), unstack() and melt() to reshape data. We can choose the method based on our analysis requirement.\n"
   ]
  },
  {
   "cell_type": "markdown",
   "metadata": {},
   "source": []
  },
  {
   "cell_type": "code",
   "execution_count": 2,
   "metadata": {},
   "outputs": [
    {
     "name": "stdout",
     "output_type": "stream",
     "text": [
      "Original Dataframe:\n",
      "          Date Category  Value\n",
      "0  2023-08-01        A     10\n",
      "1  2023-08-01        B     20\n",
      "2  2023-08-02        A     30\n",
      "3  2023-08-02        B     40\n",
      "Reshaped DataFrame:\n",
      " Category     A   B\n",
      "Date              \n",
      "2023-08-01  10  20\n",
      "2023-08-02  30  40\n"
     ]
    }
   ],
   "source": [
    "import pandas as pd\n",
    "\n",
    "# create a DataFrame\n",
    "data = {'Date': ['2023-08-01', '2023-08-01', '2023-08-02', '2023-08-02'],\n",
    "        'Category': ['A', 'B', 'A', 'B'],\n",
    "        'Value': [10, 20, 30, 40]}\n",
    "df = pd.DataFrame(data)\n",
    "\n",
    "print(\"Original Dataframe:\\n\", df)\n",
    "\n",
    "# pivot the  DataFrame\n",
    "pivot_df = df.pivot(index='Date', columns='Category', values='Value')\n",
    "print(\"Reshaped DataFrame:\\n\", pivot_df)"
   ]
  },
  {
   "cell_type": "markdown",
   "metadata": {},
   "source": [
    "Reshape Data Using pivot_table()\n",
    "The pivot_table() function in Pandas is a way for reshaping and summarizing data in a DataFrame.\n",
    "\n",
    "It allows us to create a pivot table that aggregates and summarizes data based on the specified index, columns, and aggregation functions."
   ]
  },
  {
   "cell_type": "code",
   "execution_count": 3,
   "metadata": {},
   "outputs": [
    {
     "name": "stdout",
     "output_type": "stream",
     "text": [
      "Original Dataframe:\n",
      "   Category  Value\n",
      "0        A     10\n",
      "1        B     20\n",
      "2        A     30\n",
      "3        B     40\n",
      "4        A     50\n",
      "5        B     60\n",
      "Reshaped Dataframe:\n",
      "           Value\n",
      "Category       \n",
      "A          30.0\n",
      "B          40.0\n"
     ]
    }
   ],
   "source": [
    "\n",
    "\n",
    "# create a DataFrame\n",
    "data = {'Category': ['A', 'B', 'A', 'B', 'A', 'B'],\n",
    "        'Value': [10, 20, 30, 40, 50, 60]}\n",
    "df = pd.DataFrame(data)\n",
    "print(\"Original Dataframe:\\n\", df)\n",
    "\n",
    "# create a pivot table\n",
    "pivot_table_df = df.pivot_table(index='Category', values='Value', aggfunc='mean')\n",
    "print(\"Reshaped Dataframe:\\n\", pivot_table_df)"
   ]
  },
  {
   "cell_type": "markdown",
   "metadata": {},
   "source": [
    "\n",
    "Reshape Data Using stack() and unstack()\n",
    "In Pandas, we can also use the stack() and unstack() to reshape data.\n",
    "\n",
    "stack() is used to pivot a level of the column labels, transforming them into innermost row index levels.\n",
    "unstack() is used to pivot a level of the row index, transforming it into an outermost column level\n"
   ]
  },
  {
   "cell_type": "code",
   "execution_count": 4,
   "metadata": {},
   "outputs": [
    {
     "name": "stdout",
     "output_type": "stream",
     "text": [
      "Stack:\n",
      " Date                  \n",
      "2023-08-01  Category_A    10\n",
      "            Category_B    30\n",
      "2023-08-02  Category_A    20\n",
      "            Category_B    40\n",
      "dtype: int64\n",
      "\n",
      "Unstack: \n",
      "             Category_A  Category_B\n",
      "Date                              \n",
      "2023-08-01          10          30\n",
      "2023-08-02          20          40\n"
     ]
    }
   ],
   "source": [
    "\n",
    "\n",
    "# create a DataFrame\n",
    "data = {'Date': ['2023-08-01', '2023-08-02'],\n",
    "        'Category_A': [10, 20],\n",
    "        'Category_B': [30, 40]}\n",
    "df = pd.DataFrame(data)\n",
    "\n",
    "# set 'Date' column as the index\n",
    "df.set_index('Date', inplace=True)\n",
    "\n",
    "# stack the columns into rows\n",
    "stacked_df = df.stack()\n",
    "print(\"Stack:\\n\", stacked_df)\n",
    "print()\n",
    "\n",
    "# unstack the rows back to columns\n",
    "unstacked_df = stacked_df.unstack()\n",
    "print(\"Unstack: \\n\", unstacked_df)"
   ]
  },
  {
   "cell_type": "markdown",
   "metadata": {},
   "source": [
    "Use of melt() to Reshape DataFrame\n",
    "The melt() function in Pandas transforms a DataFrame from a wide format to a long format.\n",
    "\n",
    "In this example, we have used the melt() function to transform the DataFrame df from a wide format to a long format.\n",
    "\n",
    "Inside melt(), we have passed different parameters,\n",
    "\n",
    "id_vars specifies the column that we want to keep unchanged\n",
    "var_name specifies the name for the new column that will hold the variable names ( Math and History).\n",
    "value_name specifies the name for the new column that will hold the values (the scores)."
   ]
  },
  {
   "cell_type": "code",
   "execution_count": 5,
   "metadata": {},
   "outputs": [
    {
     "name": "stdout",
     "output_type": "stream",
     "text": [
      "    Name  Subject  Score\n",
      "0  Alice     Math     90\n",
      "1    Bob     Math     85\n",
      "2  Alice  History     75\n",
      "3    Bob  History     92\n"
     ]
    }
   ],
   "source": [
    "\n",
    "# create a sample DataFrame\n",
    "data = {'Name': ['Alice', 'Bob'],\n",
    "        'Math': [90, 85],\n",
    "        'History': [75, 92]}\n",
    "df = pd.DataFrame(data)\n",
    "\n",
    "# melt the DataFrame\n",
    "melted_df = pd.melt(df, id_vars='Name', var_name='Subject', value_name='Score')\n",
    "\n",
    "print(melted_df)"
   ]
  }
 ],
 "metadata": {
  "kernelspec": {
   "display_name": "venv",
   "language": "python",
   "name": "python3"
  },
  "language_info": {
   "codemirror_mode": {
    "name": "ipython",
    "version": 3
   },
   "file_extension": ".py",
   "mimetype": "text/x-python",
   "name": "python",
   "nbconvert_exporter": "python",
   "pygments_lexer": "ipython3",
   "version": "3.11.13"
  }
 },
 "nbformat": 4,
 "nbformat_minor": 2
}
