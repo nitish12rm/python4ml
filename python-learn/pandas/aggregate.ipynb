{
 "cells": [
  {
   "cell_type": "markdown",
   "metadata": {},
   "source": [
    "Aggregate function in Pandas performs summary computations on data, often on grouped data. But it can also be used on Series objects.\n",
    "\n",
    "This can be really useful for tasks such as calculating mean, sum, count, and other statistics for different groups within our data.\n",
    "\n",
    "Syntax\n",
    "Here's the basic syntax of the aggregate function,\n",
    "\n",
    "df.aggregate(func, axis=0, *args, **kwargs)\n",
    "Here,\n",
    "\n",
    "func - an aggregate function like sum, mean, etc.\n",
    "axis - specifies whether to apply the aggregation operation along rows or columns.\n",
    "*args and **kwargs - additional arguments that can be passed to the aggregation functions."
   ]
  },
  {
   "cell_type": "code",
   "execution_count": 1,
   "metadata": {},
   "outputs": [
    {
     "name": "stdout",
     "output_type": "stream",
     "text": [
      "Total Sum: 135\n",
      "Average Value: 22.5\n",
      "Maximum Value: 35\n"
     ]
    }
   ],
   "source": [
    "import pandas as pd\n",
    "#Apply Single Aggregate Function\n",
    "data = {\n",
    "    'Category': ['A', 'A', 'B', 'B', 'A', 'B'],\n",
    "    'Value': [10, 15, 20, 25, 30, 35]\n",
    "}\n",
    "\n",
    "df = pd.DataFrame(data)\n",
    "\n",
    "# calculate total sum of the Value column\n",
    "total_sum = df['Value'].aggregate('sum')\n",
    "print(\"Total Sum:\", total_sum)\n",
    "\n",
    "# calculate the mean of the Value column\n",
    "average_value = df['Value'].aggregate('mean')\n",
    "print(\"Average Value:\", average_value)\n",
    "\n",
    "# calculate the maximum value in the Value column\n",
    "max_value = df['Value'].aggregate('max')\n",
    "print(\"Maximum Value:\", max_value)"
   ]
  },
  {
   "cell_type": "code",
   "execution_count": 2,
   "metadata": {},
   "outputs": [
    {
     "name": "stdout",
     "output_type": "stream",
     "text": [
      "          sum       mean  max  min\n",
      "Category                          \n",
      "A          55  18.333333   30   10\n",
      "B          80  26.666667   35   20\n"
     ]
    }
   ],
   "source": [
    "#Apply Multiple Aggregate Functions in Pandas\n",
    "result = df.groupby('Category')['Value'].agg(['sum', 'mean', 'max', 'min'])\n",
    "print(result)"
   ]
  },
  {
   "cell_type": "markdown",
   "metadata": {},
   "source": [
    "Apply Different Aggregation Functions\n",
    "In Pandas, we can apply different aggregation functions to different columns using a dictionary with the aggregate() function. For example,"
   ]
  },
  {
   "cell_type": "code",
   "execution_count": 3,
   "metadata": {},
   "outputs": [
    {
     "name": "stdout",
     "output_type": "stream",
     "text": [
      "         Value1     Value2    \n",
      "            sum       mean max\n",
      "Category                      \n",
      "A            55  10.333333  18\n",
      "B            80  16.000000  21\n"
     ]
    }
   ],
   "source": [
    "data = {\n",
    "    'Category': ['A', 'A', 'B', 'B', 'A', 'B'],\n",
    "    'Value1': [10, 15, 20, 25, 30, 35],\n",
    "    'Value2': [5, 8, 12, 15, 18, 21]\n",
    "}\n",
    "\n",
    "df = pd.DataFrame(data)\n",
    "pd.\n",
    "\n",
    "agg_funcs = {\n",
    "\n",
    " # applying 'sum' to Value1 column\n",
    "    'Value1': 'sum',   \n",
    "       \n",
    "# applying 'mean' and 'max' to Value2 column \n",
    "    'Value2': ['mean', 'max']   \n",
    "}\n",
    "\n",
    "result = df.groupby('Category').aggregate(agg_funcs)\n",
    "print(result)\n"
   ]
  }
 ],
 "metadata": {
  "kernelspec": {
   "display_name": "venv",
   "language": "python",
   "name": "python3"
  },
  "language_info": {
   "codemirror_mode": {
    "name": "ipython",
    "version": 3
   },
   "file_extension": ".py",
   "mimetype": "text/x-python",
   "name": "python",
   "nbconvert_exporter": "python",
   "pygments_lexer": "ipython3",
   "version": "3.11.13"
  }
 },
 "nbformat": 4,
 "nbformat_minor": 2
}
